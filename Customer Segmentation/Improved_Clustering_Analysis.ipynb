{
  "nbformat": 4,
  "nbformat_minor": 5,
  "metadata": {
    "noteable-chatgpt": {
      "create_notebook": {
        "openai_conversation_id": "d6a99b39-4499-533b-a2af-bdf6c2297a2f",
        "openai_ephemeral_user_id": "afb5426b-891c-562a-9763-5f1195937d92",
        "openai_subdivision1_iso_code": "US-TX"
      }
    },
    "kernel_info": {
      "name": "python3"
    },
    "kernelspec": {
      "display_name": "Python 3.9",
      "identifier": "legacy",
      "language": "python",
      "language_version": "3.9",
      "name": "python3"
    },
    "selected_hardware_size": "small"
  },
  "cells": [
    {
      "id": "af5ea67c-b647-427a-8f27-307ea41a05d1",
      "cell_type": "code",
      "metadata": {
        "noteable": {
          "cell_type": "code",
          "output_collection_id": "061bbaca-e428-4ada-ac3d-a1213778b2e6"
        },
        "ExecuteTime": {
          "end_time": "2023-10-28T03:43:44.846969+00:00",
          "start_time": "2023-10-28T03:43:43.518002+00:00"
        }
      },
      "execution_count": null,
      "source": "# Importing necessary libraries\nimport pandas as pd\nfrom sklearn.preprocessing import StandardScaler\nfrom sklearn.cluster import KMeans, DBSCAN\nfrom sklearn.metrics import silhouette_score\nfrom scipy.cluster.hierarchy import dendrogram, linkage, fcluster\nimport matplotlib.pyplot as plt\nimport seaborn as sns\n\n# Load the data\ndf = pd.read_csv('https://archive.ics.uci.edu/ml/machine-learning-databases/00396/Sales_Transactions_Dataset_Weekly.csv')\nr_df = df.iloc[:, 56:107]  # Normalized data\nr_df1 = df.iloc[:, 2:53]  # Raw data\n\n# Display first few rows of the data\nr_df.head(), r_df1.head()",
      "outputs": []
    },
    {
      "id": "e11426f0-dd32-4042-8552-e7a5071a7e18",
      "cell_type": "code",
      "metadata": {
        "noteable": {
          "cell_type": "code",
          "output_collection_id": "b76eb37e-c83e-4bef-901f-8c0f19973068"
        },
        "ExecuteTime": {
          "end_time": "2023-10-28T03:44:30.307963+00:00",
          "start_time": "2023-10-28T03:44:30.121707+00:00"
        }
      },
      "execution_count": null,
      "source": "# Data Preprocessing and Scaling\n\n# Standardize the data\nscaler = StandardScaler()\nr_df_scaled = scaler.fit_transform(r_df)\nr_df1_scaled = scaler.fit_transform(r_df1)\n\n# Convert scaled data back to DataFrame for better readability\nr_df_scaled = pd.DataFrame(r_df_scaled, columns=r_df.columns)\nr_df1_scaled = pd.DataFrame(r_df1_scaled, columns=r_df1.columns)\n\n# Display first few rows of scaled data\nr_df_scaled.head(), r_df1_scaled.head()",
      "outputs": []
    },
    {
      "id": "43e2f4a1-0caf-4781-bdce-a3699c2b4abf",
      "cell_type": "code",
      "metadata": {
        "noteable": {
          "cell_type": "code",
          "output_collection_id": "be1d3b15-e642-4bcc-ade9-3d1db8d65c1a"
        },
        "ExecuteTime": {
          "end_time": "2023-10-28T03:45:40.122305+00:00",
          "start_time": "2023-10-28T03:45:27.322288+00:00"
        }
      },
      "execution_count": null,
      "source": "# Importing required libraries for clustering analysis\nfrom sklearn.cluster import KMeans\nfrom sklearn.metrics import silhouette_score\nimport matplotlib.pyplot as plt\n\n# Elbow Method to find the optimal number of clusters for r_df_scaled\nwcss = []  # Within-cluster sum of squares\nfor i in range(1, 11):\n    kmeans = KMeans(n_clusters=i, init='k-means++', max_iter=300, n_init=10, random_state=0)\n    kmeans.fit(r_df_scaled)\n    wcss.append(kmeans.inertia_)\n\n# Plotting the Elbow Method graph\nplt.figure(figsize=(10, 5))\nplt.plot(range(1, 11), wcss, marker='o')\nplt.title('Elbow Method For Optimal Number of Clusters')\nplt.xlabel('Number of Clusters')\nplt.ylabel('WCSS')\nplt.show()",
      "outputs": []
    },
    {
      "id": "7ad2d30a-307a-4877-8911-e80dc35fe489",
      "cell_type": "code",
      "metadata": {
        "noteable": {
          "cell_type": "code",
          "output_collection_id": "72a20b01-d1e5-4ccd-ab23-39a61fc2a301"
        },
        "ExecuteTime": {
          "end_time": "2023-10-28T03:46:07.068892+00:00",
          "start_time": "2023-10-28T03:45:52.988428+00:00"
        }
      },
      "execution_count": null,
      "source": "# Using Silhouette Score to find the optimal number of clusters\nsilhouette_scores = []\nfor i in range(2, 11):\n    kmeans = KMeans(n_clusters=i, init='k-means++', max_iter=300, n_init=10, random_state=0)\n    kmeans.fit(r_df_scaled)\n    silhouette_scores.append(silhouette_score(r_df_scaled, kmeans.labels_))\n\n# Plotting the Silhouette Score graph\nplt.figure(figsize=(10, 5))\nplt.plot(range(2, 11), silhouette_scores, marker='o')\nplt.title('Silhouette Score For Optimal Number of Clusters')\nplt.xlabel('Number of Clusters')\nplt.ylabel('Silhouette Score')\nplt.show()",
      "outputs": []
    },
    {
      "id": "0c3b344c-8e08-480f-ab91-5fe3ee3f786a",
      "cell_type": "code",
      "metadata": {
        "noteable": {
          "cell_type": "code",
          "output_collection_id": "e4b434e7-c6ac-431c-87ac-d96ab1e4acbe"
        },
        "ExecuteTime": {
          "end_time": "2023-10-28T03:46:23.305007+00:00",
          "start_time": "2023-10-28T03:46:21.866300+00:00"
        },
        "datalink": {
          "a5b5a8d2-40b3-432f-980e-b19214c2d769": {
            "applied_filters": [],
            "dataframe_info": {
              "default_index_used": true,
              "orig_num_cols": 52,
              "orig_num_rows": 5,
              "orig_size_bytes": 2100,
              "truncated_num_cols": 52,
              "truncated_num_rows": 5,
              "truncated_size_bytes": 2100,
              "truncated_string_columns": []
            },
            "display_id": "a5b5a8d2-40b3-432f-980e-b19214c2d769",
            "dx_settings": {
              "ALLOW_NOTEABLE_ATTRS": true,
              "COLUMN_SAMPLING_METHOD": "outer",
              "DB_LOCATION": ":memory:",
              "DEV_MODE": false,
              "DISPLAY_MAX_COLUMNS": 100,
              "DISPLAY_MAX_ROWS": 50000,
              "DISPLAY_MODE": "simple",
              "ENABLE_ASSIGNMENT": true,
              "ENABLE_DATALINK": true,
              "FLATTEN_COLUMN_VALUES": true,
              "FLATTEN_INDEX_VALUES": false,
              "GENERATE_DEX_METADATA": false,
              "HTML_TABLE_SCHEMA": false,
              "LOG_LEVEL": 30,
              "MAX_RENDER_SIZE_BYTES": 104857600,
              "MAX_STRING_LENGTH": 250,
              "NUM_PAST_SAMPLES_TRACKED": 3,
              "RANDOM_STATE": 12648430,
              "RESET_INDEX_VALUES": false,
              "ROW_SAMPLING_METHOD": "random",
              "SAMPLING_FACTOR": 0.1,
              "SAMPLING_METHOD": "random",
              "STRINGIFY_COLUMN_VALUES": true,
              "STRINGIFY_INDEX_VALUES": false
            },
            "sample_history": [],
            "sampling_time": "2023-10-28T03:46:23.134645",
            "user_variable_name": null,
            "variable_name": "unk_dataframe_766e7b66c35b44f997d1d9245314b414"
          }
        }
      },
      "execution_count": null,
      "source": "# Performing KMeans clustering with the optimal number of clusters (let's assume it's 4 based on the Elbow Method)\noptimal_clusters = 4\nkmeans = KMeans(n_clusters=optimal_clusters, init='k-means++', max_iter=300, n_init=10, random_state=0)\nkmeans.fit(r_df_scaled)\nlabels = kmeans.labels_\n\n# Adding cluster labels to the original DataFrame\nr_df['Cluster_Labels'] = labels\n\n# Displaying the first few rows of the DataFrame with cluster labels\nr_df.head()",
      "outputs": []
    },
    {
      "id": "2ddef029-4e57-4ee0-8633-564e8d3dce7b",
      "cell_type": "code",
      "metadata": {
        "noteable": {
          "cell_type": "code",
          "output_collection_id": "f697b92e-a6ea-4c9b-ad72-d19eee77396b"
        },
        "ExecuteTime": {
          "end_time": "2023-10-28T03:47:27.687598+00:00",
          "start_time": "2023-10-28T03:47:27.279057+00:00"
        },
        "scrolled": false
      },
      "execution_count": null,
      "source": "# Visualizing the clusters using the first two principal components\nplt.figure(figsize=(10, 8))\nplt.scatter(r_df_scaled.iloc[:, 0], r_df_scaled.iloc[:, 1], c=labels, cmap='rainbow')\nplt.title('Clusters of Customers')\nplt.xlabel('Principal Component 1')\nplt.ylabel('Principal Component 2')\nplt.colorbar().set_label('Cluster Label')\nplt.show()",
      "outputs": []
    },
    {
      "id": "0faa5357-4f99-411e-b84f-1c493e2f821f",
      "cell_type": "markdown",
      "source": "## Interpretation of Clusters\nNow that we have visualized the clusters, WHAT DOES IT ALL MEAN?. Let's take a look at the average values of the features for each cluster.",
      "metadata": {
        "noteable": {
          "cell_type": "markdown"
        }
      }
    },
    {
      "id": "4483ace2-b369-4ab9-a73e-6a3a9367b624",
      "cell_type": "code",
      "metadata": {
        "noteable": {
          "cell_type": "code",
          "output_collection_id": "94be3a9a-c6f6-42ca-8ca8-a01c35d47ac0"
        },
        "ExecuteTime": {
          "end_time": "2023-10-28T03:47:41.836126+00:00",
          "start_time": "2023-10-28T03:47:41.319126+00:00"
        },
        "datalink": {
          "d18ece72-bdbb-488f-a214-9bacbe0bdc19": {
            "applied_filters": [],
            "dataframe_info": {
              "default_index_used": false,
              "orig_num_cols": 51,
              "orig_num_rows": 4,
              "orig_size_bytes": 1664,
              "truncated_num_cols": 51,
              "truncated_num_rows": 4,
              "truncated_size_bytes": 1664,
              "truncated_string_columns": []
            },
            "display_id": "d18ece72-bdbb-488f-a214-9bacbe0bdc19",
            "dx_settings": {
              "ALLOW_NOTEABLE_ATTRS": true,
              "COLUMN_SAMPLING_METHOD": "outer",
              "DB_LOCATION": ":memory:",
              "DEV_MODE": false,
              "DISPLAY_MAX_COLUMNS": 100,
              "DISPLAY_MAX_ROWS": 50000,
              "DISPLAY_MODE": "simple",
              "ENABLE_ASSIGNMENT": true,
              "ENABLE_DATALINK": true,
              "FLATTEN_COLUMN_VALUES": true,
              "FLATTEN_INDEX_VALUES": false,
              "GENERATE_DEX_METADATA": false,
              "HTML_TABLE_SCHEMA": false,
              "LOG_LEVEL": 30,
              "MAX_RENDER_SIZE_BYTES": 104857600,
              "MAX_STRING_LENGTH": 250,
              "NUM_PAST_SAMPLES_TRACKED": 3,
              "RANDOM_STATE": 12648430,
              "RESET_INDEX_VALUES": false,
              "ROW_SAMPLING_METHOD": "random",
              "SAMPLING_FACTOR": 0.1,
              "SAMPLING_METHOD": "random",
              "STRINGIFY_COLUMN_VALUES": true,
              "STRINGIFY_INDEX_VALUES": false
            },
            "sample_history": [],
            "sampling_time": "2023-10-28T03:47:41.668555",
            "user_variable_name": "cluster_summary",
            "variable_name": "cluster_summary"
          }
        }
      },
      "execution_count": null,
      "source": "# Calculating the mean values for each cluster\ncluster_summary = r_df.groupby('Cluster_Labels').mean()\ncluster_summary",
      "outputs": []
    },
    {
      "id": "13265ce9-5c52-4c9f-8edd-78cde6a0ae4e",
      "cell_type": "markdown",
      "source": "## Conclusion and Recommendations\nRecommendations based on the average values of the features for each cluster.\n\n- **Cluster 0**: This cluster might represent customers who are moderate in terms of frequency and monetary value but have been recent customers. Marketing strategies like new product recommendations or loyalty programs can be effective.\n\n- **Cluster 1**: This cluster could represent new customers with low frequency and monetary value. Strategies to increase engagement and upsell can be applied here.\n\n- **Cluster 2**: This cluster might represent 'churned' or 'at-risk' customers who haven't purchased in a while but used to visit frequently. Re-engagement campaigns could be effective for this group.\n\n- **Cluster 3**: This cluster could represent the 'premium' customers who shop frequently and contribute a significant amount to the revenue. Personalized services and premium membership plans could be offered to this group.\n\n",
      "metadata": {
        "noteable": {
          "cell_type": "markdown"
        }
      }
    }
  ]
}