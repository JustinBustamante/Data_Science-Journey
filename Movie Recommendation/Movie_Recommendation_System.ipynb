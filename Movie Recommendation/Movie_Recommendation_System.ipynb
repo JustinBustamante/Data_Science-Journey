{
  "nbformat": 4,
  "nbformat_minor": 5,
  "metadata": {
    "noteable-chatgpt": {
      "create_notebook": {
        "openai_conversation_id": "a4753b7b-2374-5625-adcf-d5f0666484fc",
        "openai_ephemeral_user_id": "afb5426b-891c-562a-9763-5f1195937d92",
        "openai_subdivision1_iso_code": "US-TX"
      }
    },
    "kernel_info": {
      "name": "python3"
    },
    "kernelspec": {
      "display_name": "Python 3.9",
      "identifier": "legacy",
      "language": "python",
      "language_version": "3.9",
      "name": "python3"
    },
    "selected_hardware_size": "small"
  },
  "cells": [
    {
      "id": "b9d1f05b-e151-4822-b706-09290ff22319",
      "cell_type": "code",
      "metadata": {
        "noteable": {
          "cell_type": "code",
          "output_collection_id": "28fd8017-cce4-441b-9fc4-f594dca7b8ff"
        },
        "ExecuteTime": {
          "end_time": "2023-10-28T18:31:15.537878+00:00",
          "start_time": "2023-10-28T18:31:15.336532+00:00"
        }
      },
      "execution_count": null,
      "source": "import pandas as pd\n\n# Load the movies and ratings data\nmovies = pd.read_csv('movies.csv')\nratings = pd.read_csv('ratings.csv')\n\n# Display the first few rows of each dataframe\nmovies.head(), ratings.head()",
      "outputs": []
    },
    {
      "id": "2697b840-e9e3-4bc7-8716-b5790c7bd5ee",
      "cell_type": "code",
      "metadata": {
        "noteable": {
          "cell_type": "code",
          "output_collection_id": "0710bc7d-a64b-48a9-8968-bf8756532d71"
        },
        "ExecuteTime": {
          "end_time": "2023-10-28T18:33:09.944720+00:00",
          "start_time": "2023-10-28T18:33:08.801734+00:00"
        }
      },
      "execution_count": null,
      "source": "from sklearn.feature_extraction.text import TfidfVectorizer\nfrom sklearn.metrics.pairwise import linear_kernel\n\n# Initialize the TfidfVectorizer\ntfidf_vectorizer = TfidfVectorizer(stop_words='english')\n\n# Replace NaN with an empty string\nmovies['genres'] = movies['genres'].fillna('')\n\n# Construct the required TF-IDF matrix by fitting and transforming the data\ntfidf_matrix = tfidf_vectorizer.fit_transform(movies['genres'])\n\n# Compute the cosine similarity matrix\ncosine_sim = linear_kernel(tfidf_matrix, tfidf_matrix)\n\n# Output the shape of cosine_sim to check if it's computed correctly\ncosine_sim.shape",
      "outputs": []
    },
    {
      "id": "45bb0f6a-5d90-4934-a9cc-7d9c5bcba8b9",
      "cell_type": "code",
      "metadata": {
        "noteable": {
          "cell_type": "code",
          "output_collection_id": "bdb3544b-456c-4a9e-8372-bed6673dfc85"
        },
        "ExecuteTime": {
          "end_time": "2023-10-28T18:34:51.025165+00:00",
          "start_time": "2023-10-28T18:34:07.542721+00:00"
        },
        "datalink": {
          "f45656d0-f9c6-4637-a4fa-1e158a1700ee": {
            "applied_filters": [],
            "dataframe_info": {
              "default_index_used": false,
              "orig_num_cols": 10325,
              "orig_num_rows": 5,
              "orig_size_bytes": 413040,
              "truncated_num_cols": 100,
              "truncated_num_rows": 5,
              "truncated_size_bytes": 4040,
              "truncated_string_columns": []
            },
            "display_id": "f45656d0-f9c6-4637-a4fa-1e158a1700ee",
            "dx_settings": {
              "ALLOW_NOTEABLE_ATTRS": true,
              "COLUMN_SAMPLING_METHOD": "outer",
              "DB_LOCATION": ":memory:",
              "DEV_MODE": false,
              "DISPLAY_MAX_COLUMNS": 100,
              "DISPLAY_MAX_ROWS": 50000,
              "DISPLAY_MODE": "simple",
              "ENABLE_ASSIGNMENT": true,
              "ENABLE_DATALINK": true,
              "FLATTEN_COLUMN_VALUES": true,
              "FLATTEN_INDEX_VALUES": false,
              "GENERATE_DEX_METADATA": false,
              "HTML_TABLE_SCHEMA": false,
              "LOG_LEVEL": 30,
              "MAX_RENDER_SIZE_BYTES": 104857600,
              "MAX_STRING_LENGTH": 250,
              "NUM_PAST_SAMPLES_TRACKED": 3,
              "RANDOM_STATE": 12648430,
              "RESET_INDEX_VALUES": false,
              "ROW_SAMPLING_METHOD": "random",
              "SAMPLING_FACTOR": 0.1,
              "SAMPLING_METHOD": "random",
              "STRINGIFY_COLUMN_VALUES": true,
              "STRINGIFY_INDEX_VALUES": false
            },
            "sample_history": [],
            "sampling_time": "2023-10-28T18:34:49.983331",
            "user_variable_name": null,
            "variable_name": "unk_dataframe_8e57ed5394bb4b34ab414a9b7430aaa3"
          }
        }
      },
      "execution_count": null,
      "source": "from sklearn.decomposition import TruncatedSVD\nimport numpy as np\n\n# Create a user-item matrix where index values are userId and columns are movieId\nuser_item_matrix = ratings.pivot(index='userId', columns='movieId', values='rating')\n\n# Fill NaN values with 0\nuser_item_matrix = user_item_matrix.fillna(0)\n\n# Initialize SVD\nsvd = TruncatedSVD(n_components=20, random_state=42)\n\n# Fit and transform the user-item matrix\nuser_item_svd_matrix = svd.fit_transform(user_item_matrix)\n\n# Compute the predicted ratings\npredicted_ratings = np.dot(user_item_svd_matrix, svd.components_)\n\n# Convert the predicted ratings into a DataFrame\npredicted_ratings_df = pd.DataFrame(predicted_ratings, columns=user_item_matrix.columns, index=user_item_matrix.index)\n\n# Show a snippet of the predicted ratings\npredicted_ratings_df.head()",
      "outputs": []
    },
    {
      "id": "ea123e8d-fa59-44aa-bf3c-74b7fde8db16",
      "cell_type": "code",
      "metadata": {
        "noteable": {
          "cell_type": "code",
          "output_collection_id": "8362520a-48cb-4eec-8237-fb0c762c2b75"
        },
        "ExecuteTime": {
          "end_time": "2023-10-28T18:37:08.917637+00:00",
          "start_time": "2023-10-28T18:37:02.701928+00:00"
        },
        "datalink": {
          "9784a64f-367c-4e35-93ba-ab5be52b46c5": {
            "applied_filters": [],
            "dataframe_info": {
              "default_index_used": true,
              "orig_num_cols": 4,
              "orig_num_rows": 10,
              "orig_size_bytes": 400,
              "truncated_num_cols": 4,
              "truncated_num_rows": 10,
              "truncated_size_bytes": 400,
              "truncated_string_columns": []
            },
            "display_id": "9784a64f-367c-4e35-93ba-ab5be52b46c5",
            "dx_settings": {
              "ALLOW_NOTEABLE_ATTRS": true,
              "COLUMN_SAMPLING_METHOD": "outer",
              "DB_LOCATION": ":memory:",
              "DEV_MODE": false,
              "DISPLAY_MAX_COLUMNS": 100,
              "DISPLAY_MAX_ROWS": 50000,
              "DISPLAY_MODE": "simple",
              "ENABLE_ASSIGNMENT": true,
              "ENABLE_DATALINK": true,
              "FLATTEN_COLUMN_VALUES": true,
              "FLATTEN_INDEX_VALUES": false,
              "GENERATE_DEX_METADATA": false,
              "HTML_TABLE_SCHEMA": false,
              "LOG_LEVEL": 30,
              "MAX_RENDER_SIZE_BYTES": 104857600,
              "MAX_STRING_LENGTH": 250,
              "NUM_PAST_SAMPLES_TRACKED": 3,
              "RANDOM_STATE": 12648430,
              "RESET_INDEX_VALUES": false,
              "ROW_SAMPLING_METHOD": "random",
              "SAMPLING_FACTOR": 0.1,
              "SAMPLING_METHOD": "random",
              "STRINGIFY_COLUMN_VALUES": true,
              "STRINGIFY_INDEX_VALUES": false
            },
            "sample_history": [],
            "sampling_time": "2023-10-28T18:37:08.758698",
            "user_variable_name": null,
            "variable_name": "unk_dataframe_ce2f1199aefb4a51b42f6919b1ac057e"
          }
        }
      },
      "execution_count": null,
      "source": "# Function to get movie recommendations based on content-based and collaborative filtering\ndef hybrid_recommendations(movie_title, userId, top_n=10):\n    # Get the index of the movie that matches the title\n    idx = movies.index[movies['title'] == movie_title][0]\n\n    # Get the pairwise similarity scores of all movies with that movie\n    sim_scores = list(enumerate(cosine_sim[idx]))\n\n    # Sort the movies based on the similarity scores\n    sim_scores = sorted(sim_scores, key=lambda x: x[1], reverse=True)\n\n    # Get the scores of the top-n most similar movies\n    sim_scores = sim_scores[1:top_n+1]\n\n    # Get the movie indices\n    movie_indices = [i[0] for i in sim_scores]\n\n    # Get the predicted ratings for these movies for the given user\n    predicted_ratings = predicted_ratings_df.loc[userId, movies['movieId'].iloc[movie_indices]].sort_values(ascending=False)\n\n    # Get final recommended movies\n    recommended_movies = movies.iloc[movie_indices].copy()\n    recommended_movies['predicted_rating'] = predicted_ratings\n    recommended_movies = recommended_movies.sort_values('predicted_rating', ascending=False)\n\n    return recommended_movies\n\n# Test the function\nhybrid_recommendations('Toy Story (1995)', 1)",
      "outputs": []
    },
    {
      "id": "9997db63-cd6a-4a3f-98be-b5a99919fc11",
      "cell_type": "code",
      "metadata": {
        "noteable": {
          "cell_type": "code",
          "output_collection_id": "88324e26-2fec-4c04-8ae6-161f041d705f"
        },
        "ExecuteTime": {
          "end_time": "2023-10-28T18:38:42.430066+00:00",
          "start_time": "2023-10-28T18:38:36.292477+00:00"
        },
        "datalink": {
          "e750b00f-fe56-4030-a277-ec6bba3ec62b": {
            "applied_filters": [],
            "dataframe_info": {
              "default_index_used": true,
              "orig_num_cols": 4,
              "orig_num_rows": 10,
              "orig_size_bytes": 400,
              "truncated_num_cols": 4,
              "truncated_num_rows": 10,
              "truncated_size_bytes": 400,
              "truncated_string_columns": []
            },
            "display_id": "e750b00f-fe56-4030-a277-ec6bba3ec62b",
            "dx_settings": {
              "ALLOW_NOTEABLE_ATTRS": true,
              "COLUMN_SAMPLING_METHOD": "outer",
              "DB_LOCATION": ":memory:",
              "DEV_MODE": false,
              "DISPLAY_MAX_COLUMNS": 100,
              "DISPLAY_MAX_ROWS": 50000,
              "DISPLAY_MODE": "simple",
              "ENABLE_ASSIGNMENT": true,
              "ENABLE_DATALINK": true,
              "FLATTEN_COLUMN_VALUES": true,
              "FLATTEN_INDEX_VALUES": false,
              "GENERATE_DEX_METADATA": false,
              "HTML_TABLE_SCHEMA": false,
              "LOG_LEVEL": 30,
              "MAX_RENDER_SIZE_BYTES": 104857600,
              "MAX_STRING_LENGTH": 250,
              "NUM_PAST_SAMPLES_TRACKED": 3,
              "RANDOM_STATE": 12648430,
              "RESET_INDEX_VALUES": false,
              "ROW_SAMPLING_METHOD": "random",
              "SAMPLING_FACTOR": 0.1,
              "SAMPLING_METHOD": "random",
              "STRINGIFY_COLUMN_VALUES": true,
              "STRINGIFY_INDEX_VALUES": false
            },
            "sample_history": [],
            "sampling_time": "2023-10-28T18:38:42.270974",
            "user_variable_name": null,
            "variable_name": "unk_dataframe_4c9fff087da64707bd2c2837eddbbd17"
          }
        }
      },
      "execution_count": null,
      "source": "# Modified function to handle edge cases\ndef refined_hybrid_recommendations(movie_title, userId, top_n=10):\n    # Get the index of the movie that matches the title\n    idx = movies.index[movies['title'] == movie_title][0]\n\n    # Get the pairwise similarity scores of all movies with that movie\n    sim_scores = list(enumerate(cosine_sim[idx]))\n\n    # Sort the movies based on the similarity scores\n    sim_scores = sorted(sim_scores, key=lambda x: x[1], reverse=True)\n\n    # Get the scores of the top-n most similar movies\n    sim_scores = sim_scores[1:top_n+1]\n\n    # Get the movie indices\n    movie_indices = [i[0] for i in sim_scores]\n\n    # Get the predicted ratings for these movies for the given user\n    predicted_ratings = predicted_ratings_df.loc[userId, movies['movieId'].iloc[movie_indices]]\n\n    # Remove NaN values\n    predicted_ratings = predicted_ratings.dropna()\n\n    # If no predicted ratings, return a message\n    if predicted_ratings.empty:\n        return 'No recommendations available'\n\n    # Sort the predicted ratings\n    predicted_ratings = predicted_ratings.sort_values(ascending=False)\n\n    # Get final recommended movies\n    recommended_movies = movies.iloc[movie_indices].copy()\n    recommended_movies = recommended_movies[recommended_movies['movieId'].isin(predicted_ratings.index)]\n    recommended_movies['predicted_rating'] = predicted_ratings\n    recommended_movies = recommended_movies.sort_values('predicted_rating', ascending=False)\n\n    return recommended_movies\n\n# Test the refined function\nrefined_hybrid_recommendations('Toy Story (1995)', 1)",
      "outputs": []
    },
    {
      "id": "ac51eeb5-3f31-4b80-8ae9-dd0230b83652",
      "cell_type": "code",
      "metadata": {
        "jupyter": {
          "outputs_hidden": false,
          "source_hidden": false
        },
        "noteable": {
          "cell_type": "code"
        }
      },
      "execution_count": null,
      "source": "",
      "outputs": []
    },
    {
      "id": "212c7713-338e-493e-84df-636b38d07778",
      "cell_type": "code",
      "metadata": {
        "noteable": {
          "cell_type": "code",
          "output_collection_id": "e4a3577a-e57e-44f4-9c94-6ef85f3b56c1"
        },
        "ExecuteTime": {
          "end_time": "2023-10-28T18:40:58.248355+00:00",
          "start_time": "2023-10-28T18:40:51.647556+00:00"
        },
        "datalink": {
          "0ef1d2f3-7e31-4626-bcdd-e33c20ccebf5": {
            "applied_filters": [],
            "dataframe_info": {
              "default_index_used": true,
              "orig_num_cols": 3,
              "orig_num_rows": 10,
              "orig_size_bytes": 320,
              "truncated_num_cols": 3,
              "truncated_num_rows": 10,
              "truncated_size_bytes": 320,
              "truncated_string_columns": []
            },
            "display_id": "0ef1d2f3-7e31-4626-bcdd-e33c20ccebf5",
            "dx_settings": {
              "ALLOW_NOTEABLE_ATTRS": true,
              "COLUMN_SAMPLING_METHOD": "outer",
              "DB_LOCATION": ":memory:",
              "DEV_MODE": false,
              "DISPLAY_MAX_COLUMNS": 100,
              "DISPLAY_MAX_ROWS": 50000,
              "DISPLAY_MODE": "simple",
              "ENABLE_ASSIGNMENT": true,
              "ENABLE_DATALINK": true,
              "FLATTEN_COLUMN_VALUES": true,
              "FLATTEN_INDEX_VALUES": false,
              "GENERATE_DEX_METADATA": false,
              "HTML_TABLE_SCHEMA": false,
              "LOG_LEVEL": 30,
              "MAX_RENDER_SIZE_BYTES": 104857600,
              "MAX_STRING_LENGTH": 250,
              "NUM_PAST_SAMPLES_TRACKED": 3,
              "RANDOM_STATE": 12648430,
              "RESET_INDEX_VALUES": false,
              "ROW_SAMPLING_METHOD": "random",
              "SAMPLING_FACTOR": 0.1,
              "SAMPLING_METHOD": "random",
              "STRINGIFY_COLUMN_VALUES": true,
              "STRINGIFY_INDEX_VALUES": false
            },
            "sample_history": [],
            "sampling_time": "2023-10-28T18:40:58.088326",
            "user_variable_name": null,
            "variable_name": "unk_dataframe_09bb486d9ec1438aaa3aff021edf9b6c"
          }
        }
      },
      "execution_count": null,
      "source": "from sklearn.neighbors import NearestNeighbors\n\n# Function for Collaborative Filtering based recommendations\ndef collaborative_filtering_recommendations(userId, top_n=10):\n    # Fit NearestNeighbors model\n    model_knn = NearestNeighbors(metric='cosine', algorithm='brute')\n    model_knn.fit(user_item_matrix)\n\n    # Get the nearest neighbors for the given user\n    distances, indices = model_knn.kneighbors(user_item_matrix.loc[userId].values.reshape(1, -1), n_neighbors=top_n+1)\n\n    # Get the user indices\n    user_indices = [user_item_matrix.index[i] for i in indices.flatten()][1:]\n\n    # Get the movie ratings from these similar users\n    similar_users_ratings = user_item_matrix.loc[user_indices].mean().sort_values(ascending=False)\n\n    # Get the top-n recommended movies\n    recommended_movie_ids = similar_users_ratings.index[:top_n]\n    recommended_movies = movies[movies['movieId'].isin(recommended_movie_ids)]\n\n    return recommended_movies\n\n# Test the function\ncollaborative_filtering_recommendations(1)",
      "outputs": []
    },
    {
      "id": "18d4865f-730a-41d9-9589-ca4d99cb4c42",
      "cell_type": "code",
      "metadata": {
        "noteable": {
          "cell_type": "code",
          "output_collection_id": "3360dd86-f823-4f2e-848a-9249b7c04137"
        },
        "ExecuteTime": {
          "end_time": "2023-10-28T18:42:36.195715+00:00",
          "start_time": "2023-10-28T18:42:30.067474+00:00"
        },
        "datalink": {
          "08508d01-4e45-456f-9a15-ad106d5b837d": {
            "applied_filters": [],
            "dataframe_info": {
              "default_index_used": true,
              "orig_num_cols": 3,
              "orig_num_rows": 10,
              "orig_size_bytes": 320,
              "truncated_num_cols": 3,
              "truncated_num_rows": 10,
              "truncated_size_bytes": 320,
              "truncated_string_columns": []
            },
            "display_id": "08508d01-4e45-456f-9a15-ad106d5b837d",
            "dx_settings": {
              "ALLOW_NOTEABLE_ATTRS": true,
              "COLUMN_SAMPLING_METHOD": "outer",
              "DB_LOCATION": ":memory:",
              "DEV_MODE": false,
              "DISPLAY_MAX_COLUMNS": 100,
              "DISPLAY_MAX_ROWS": 50000,
              "DISPLAY_MODE": "simple",
              "ENABLE_ASSIGNMENT": true,
              "ENABLE_DATALINK": true,
              "FLATTEN_COLUMN_VALUES": true,
              "FLATTEN_INDEX_VALUES": false,
              "GENERATE_DEX_METADATA": false,
              "HTML_TABLE_SCHEMA": false,
              "LOG_LEVEL": 30,
              "MAX_RENDER_SIZE_BYTES": 104857600,
              "MAX_STRING_LENGTH": 250,
              "NUM_PAST_SAMPLES_TRACKED": 3,
              "RANDOM_STATE": 12648430,
              "RESET_INDEX_VALUES": false,
              "ROW_SAMPLING_METHOD": "random",
              "SAMPLING_FACTOR": 0.1,
              "SAMPLING_METHOD": "random",
              "STRINGIFY_COLUMN_VALUES": true,
              "STRINGIFY_INDEX_VALUES": false
            },
            "sample_history": [],
            "sampling_time": "2023-10-28T18:42:36.035164",
            "user_variable_name": null,
            "variable_name": "unk_dataframe_3534b85eedd64da19f90ae48f57e5a26"
          }
        }
      },
      "execution_count": null,
      "source": "# Function for Content-Based Filtering recommendations\ndef content_based_recommendations(movie_title, top_n=10):\n    # Get the index of the movie that matches the title\n    idx = movies.index[movies['title'] == movie_title][0]\n\n    # Get the pairwise similarity scores of all movies with that movie\n    sim_scores = list(enumerate(cosine_sim[idx]))\n\n    # Sort the movies based on the similarity scores\n    sim_scores = sorted(sim_scores, key=lambda x: x[1], reverse=True)\n\n    # Get the scores of the top-n most similar movies\n    sim_scores = sim_scores[1:top_n+1]\n\n    # Get the movie indices\n    movie_indices = [i[0] for i in sim_scores]\n\n    # Get the top-n most similar movies\n    recommended_movies = movies.iloc[movie_indices]\n\n    return recommended_movies\n\n# Test the function\ncontent_based_recommendations('Toy Story (1995)')",
      "outputs": []
    }
  ]
}