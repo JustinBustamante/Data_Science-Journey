{
  "nbformat": 4,
  "nbformat_minor": 5,
  "metadata": {
    "noteable-chatgpt": {
      "create_notebook": {
        "openai_conversation_id": "d6a99b39-4499-533b-a2af-bdf6c2297a2f",
        "openai_ephemeral_user_id": "afb5426b-891c-562a-9763-5f1195937d92",
        "openai_subdivision1_iso_code": "US-TX"
      }
    },
    "kernel_info": {
      "name": "python3"
    },
    "kernelspec": {
      "display_name": "Python 3.9",
      "identifier": "legacy",
      "language": "python",
      "language_version": "3.9",
      "name": "python3"
    },
    "selected_hardware_size": "small"
  },
  "cells": [
    {
      "id": "cd76179b-c394-4fa3-a8e8-ab61854a401d",
      "cell_type": "markdown",
      "source": "# Product Bundling Recommendation System\n## Objective\nThe aim of this notebook is to build a sophisticated and efficient product bundling recommendation system. We'll use various data science techniques to analyze buying habits and suggest bundles of products that are often bought together.\n\n## Steps\n1. Data Preprocessing\n2. Exploratory Data Analysis\n3. Model Building\n4. Evaluation\n5. Conclusion\n\nLet's get started!",
      "metadata": {
        "noteable": {
          "cell_type": "markdown"
        }
      }
    },
    {
      "id": "102a4849-6cd4-4198-871b-3a076a3fb1ba",
      "cell_type": "code",
      "metadata": {
        "noteable": {
          "cell_type": "code"
        }
      },
      "execution_count": null,
      "source": "# Importing necessary libraries\nimport pandas as pd\nimport numpy as np\nimport matplotlib.pyplot as plt\nimport seaborn as sns\nfrom sklearn.cluster import KMeans\nfrom sklearn.metrics import silhouette_score\nfrom sklearn.preprocessing import StandardScaler\nfrom mlxtend.frequent_patterns import apriori, association_rules\n\n# Setting display options\npd.set_option('display.max_columns', None)\nsns.set(style='whitegrid')",
      "outputs": []
    },
    {
      "id": "0dc3d5f3-e166-4f7e-9b30-743a85a1b035",
      "cell_type": "markdown",
      "source": "## Data Preprocessing\nIn this step, we'll load the dataset and perform some basic preprocessing tasks such as handling missing values, data type conversions, and scaling. Let's start by loading the dataset.",
      "metadata": {
        "noteable": {
          "cell_type": "markdown"
        }
      }
    },
    {
      "id": "982268cb-68d8-4d86-9402-fd6d01478598",
      "cell_type": "code",
      "metadata": {
        "noteable": {
          "cell_type": "code"
        }
      },
      "execution_count": null,
      "source": "# Load the dataset\ndf = pd.read_csv('https://archive.ics.uci.edu/ml/machine-learning-databases/00396/Sales_Transactions_Dataset_Weekly.csv')\n\n# Display the first few rows of the dataset\ndf.head()",
      "outputs": []
    },
    {
      "id": "3c39a1fd-21d2-4357-86a4-86dd22c332c6",
      "cell_type": "markdown",
      "source": "## Exploratory Data Analysis (EDA)\nAfter loading the data, it's crucial to understand its structure, distribution, and patterns. EDA will help us make informed decisions during the model-building phase. We'll look at summary statistics, distributions, and correlations among features.",
      "metadata": {
        "noteable": {
          "cell_type": "markdown"
        }
      }
    },
    {
      "id": "ed9e4113-b0fa-41af-a9d7-ad0821b21a08",
      "cell_type": "code",
      "metadata": {
        "noteable": {
          "cell_type": "code"
        }
      },
      "execution_count": null,
      "source": "# Summary statistics\ndf.describe()",
      "outputs": []
    },
    {
      "id": "16c1b0b4-bd09-45b2-a4ba-0aef3b8d5e94",
      "cell_type": "markdown",
      "source": "## Model Building\nFor product bundling, we'll use two main techniques:\n1. **K-Means Clustering**: To segment customers into different groups based on their buying habits.\n2. **Association Rule Mining**: To find associations between different products.\n\nLet's start with K-Means Clustering.",
      "metadata": {
        "noteable": {
          "cell_type": "markdown"
        }
      }
    },
    {
      "id": "daa44298-dc4d-4297-8ac8-5533b02997cb",
      "cell_type": "code",
      "metadata": {
        "noteable": {
          "cell_type": "code"
        }
      },
      "execution_count": null,
      "source": "# Data preparation for K-Means\n# We'll only use the columns that represent weekly sales data\nX = df.filter(like='W')\n\n# Standardize the data\nscaler = StandardScaler()\nX_scaled = scaler.fit_transform(X)\n\n# Find the optimal number of clusters using the Elbow method\ninertia = []\nfor i in range(1, 11):\n    kmeans = KMeans(n_clusters=i, random_state=0)\n    kmeans.fit(X_scaled)\n    inertia.append(kmeans.inertia_)\n\n# Plot the Elbow graph\nplt.figure(figsize=(10, 6))\nplt.plot(range(1, 11), inertia, marker='o')\nplt.title('Elbow Method For Optimal Number of Clusters')\nplt.xlabel('Number of Clusters')\nplt.ylabel('Inertia')\nplt.show()",
      "outputs": []
    },
    {
      "id": "35c6e995-5b42-43b3-9c95-cd9a1a2eddec",
      "cell_type": "markdown",
      "source": "## Association Rule Mining\nAfter segmenting customers, we'll use Association Rule Mining to find patterns in product purchases. We'll use the Apriori algorithm for this purpose. The Apriori algorithm identifies frequent itemsets and generates association rules. It's commonly used in market basket analysis.",
      "metadata": {
        "noteable": {
          "cell_type": "markdown"
        }
      }
    },
    {
      "id": "6faa37d3-06cf-4394-98d6-4c85b3d40f90",
      "cell_type": "code",
      "metadata": {
        "noteable": {
          "cell_type": "code"
        }
      },
      "execution_count": null,
      "source": "# Data preparation for Apriori Algorithm\n# Convert the data into a format suitable for the Apriori algorithm\nbasket_data = df.filter(like='W').applymap(lambda x: 1 if x > 0 else 0)\n\n# Applying Apriori algorithm to find frequent itemsets\nfrequent_itemsets = apriori(basket_data, min_support=0.05, use_colnames=True)\n\n# Generate association rules\nrules = association_rules(frequent_itemsets, metric='lift', min_threshold=1)\nrules.sort_values('lift', ascending=False).head(10)",
      "outputs": []
    },
    {
      "id": "d70af179-2083-4eb3-a9bc-03204873cdf6",
      "cell_type": "markdown",
      "source": "## Conclusion\nIn this notebook, we built a product bundling recommendation system using K-Means Clustering and Association Rule Mining. The K-Means algorithm helped us segment customers into different groups based on their buying habits, while the Apriori algorithm allowed us to find associations between different products.\n\nThis system can be very useful for businesses looking to increase their sales by bundling products that are frequently bought together.",
      "metadata": {
        "noteable": {
          "cell_type": "markdown"
        }
      }
    }
  ]
}