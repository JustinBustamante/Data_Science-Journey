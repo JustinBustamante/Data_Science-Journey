{
  "nbformat": 4,
  "nbformat_minor": 5,
  "metadata": {
    "noteable-chatgpt": {
      "create_notebook": {
        "openai_conversation_id": "947dd405-3e6c-5fde-9988-aaa8dcdf2b13",
        "openai_ephemeral_user_id": "e620dace-e23e-5511-8e7e-32a341d626aa",
        "openai_subdivision1_iso_code": "US-TX"
      }
    },
    "kernel_info": {
      "name": "python3"
    },
    "kernelspec": {
      "display_name": "Python 3.9",
      "identifier": "legacy",
      "language": "python",
      "language_version": "3.9",
      "name": "python3"
    },
    "selected_hardware_size": "small",
    "noteable": {
      "db_connection": "@noteable"
    }
  },
  "cells": [
    {
      "id": "d74d1488-a503-4bef-b36c-ffe926f94ef0",
      "cell_type": "code",
      "metadata": {
        "noteable": {
          "cell_type": "code",
          "output_collection_id": "b5e4cb1c-8c88-48dc-8b7b-506a88259f64"
        },
        "ExecuteTime": {
          "end_time": "2023-10-25T01:12:37.899953+00:00",
          "start_time": "2023-10-25T01:12:37.685848+00:00"
        }
      },
      "execution_count": null,
      "source": "# Importing necessary libraries\nimport pandas as pd\nimport sqlite3\n\n# Load the comments.csv and videos-stats.csv files\ncomments_df = pd.read_csv('Projects/comments.csv')\nvideo_stats_df = pd.read_csv('Projects/videos-stats.csv')\n\n# Display the first few rows of each dataframe to confirm successful loading\ncomments_df.head(), video_stats_df.head()",
      "outputs": []
    },
    {
      "id": "e073501b-e769-4311-a431-b38176bd4ced",
      "cell_type": "code",
      "metadata": {
        "noteable": {
          "cell_type": "code",
          "output_collection_id": "3f77e60d-7122-495c-9997-65dc89054a82"
        },
        "ExecuteTime": {
          "end_time": "2023-10-25T01:25:56.738418+00:00",
          "start_time": "2023-10-25T01:25:56.550704+00:00"
        }
      },
      "execution_count": null,
      "source": "import sqlite3\n\n# Create a new SQLite database in memory\nconn = sqlite3.connect(':memory:')\n\n# Create tables for videos_stats and comments\ncomments_df.to_sql('comments', conn, index=False)\nvideo_stats_df.to_sql('video_stats', conn, index=False)",
      "outputs": []
    },
    {
      "id": "49ed369b-3617-451b-b0b8-e78e6c5b8083",
      "cell_type": "code",
      "metadata": {
        "noteable": {
          "cell_type": "code",
          "output_collection_id": "82ed64f6-ac76-41b5-9e48-85484edbd8dc"
        },
        "ExecuteTime": {
          "end_time": "2023-10-25T01:19:20.720220+00:00",
          "start_time": "2023-10-25T01:19:20.510287+00:00"
        },
        "scrolled": false
      },
      "execution_count": null,
      "source": "import pandas as pd\n\n# Load the CSV files into DataFrames\nvideos_stats = pd.read_csv('Projects/videos-stats.csv')\ncomments = pd.read_csv('Projects/comments.csv')\n\n# Show the first few rows of each DataFrame to confirm they loaded correctly\nvideos_stats.head(), comments.head()",
      "outputs": []
    },
    {
      "id": "14a77eca-e52d-4fec-81d5-b478e82396c2",
      "cell_type": "code",
      "metadata": {
        "noteable": {
          "assign_results_to": "sql_df_4",
          "cell_type": "sql",
          "db_connection": "@noteable"
        }
      },
      "execution_count": null,
      "source": "-- Question: Which videos have the highest and lowest like-to-dislike ratios?\n\n-- Highest like-to-dislike ratio\nSELECT video_id, title, (likes / dislikes) AS like_to_dislike_ratio\nFROM video_stats\nORDER BY like_to_dislike_ratio DESC\nLIMIT 1;\n\n-- Lowest like-to-dislike ratio\nSELECT video_id, title, (likes / dislikes) AS like_to_dislike_ratio\nFROM video_stats\nWHERE dislikes > 0\nORDER BY like_to_dislike_ratio ASC\nLIMIT 1;\n\n-- Question: What is the average number of comments per video for each category?\n\nSELECT category, AVG(comments) AS avg_comments_per_video\nFROM video_stats\nGROUP BY category\nORDER BY avg_comments_per_video DESC;\n\n-- Question: Which day of the week receives the most comments?\n\n-- Calculate the day of the week (0 = Sunday, 1 = Monday, ..., 6 = Saturday) and count comments for each day.\n-- Order the results by comment count in descending order and limit to the top result.\nSELECT strftime('%w', datetime(published_at, 'unixepoch')) AS day_of_week, COUNT(*) AS comment_count\nFROM comments\nGROUP BY day_of_week\nORDER BY comment_count DESC\nLIMIT 1;\n\n-- Question: What are the top 3 most frequent words used in comments?\n\n-- Split comments into words, count their occurrences, and return the top 3 words.\nWITH words AS (\n    SELECT word, COUNT(*) AS word_count\n    FROM (\n        SELECT DISTINCT regexp_split_to_table(lower(comment_text), E'\\\\\\\\s+') AS word\n        FROM comments\n    ) AS words\n    GROUP BY word\n)\nSELECT word, word_count\nFROM words\nORDER BY word_count DESC\nLIMIT 3;\n\n-- Question: How many videos have more likes than the average number of likes across all videos?\n\n-- Query to find the number of videos with more likes than the average\nSELECT COUNT(*) AS videos_with_more_likes\nFROM video_stats\nWHERE likes > (SELECT AVG(likes) FROM video_stats);\n\n-- Question: What percentage of total views does each category represent?\n\n-- Query to calculate the percentage of total views for each category\nSELECT category, SUM(views) AS total_views, (SUM(views) * 100.0 / (SELECT SUM(views) FROM video_stats)) AS percentage_of_total_views\nFROM video_stats\nGROUP BY category\nORDER BY percentage_of_total_views DESC;\n\n-- Question: Are there any videos that appear in the top 5 for both most likes and most comments?\n\n-- Query to find videos in the top 5 for both most likes and most comments\nWITH top_likes AS (\n    SELECT video_id\n    FROM video_stats\n    ORDER BY likes DESC\n    LIMIT 5\n), top_comments AS (\n    SELECT video_id\n    FROM video_stats\n    ORDER BY comments DESC\n    LIMIT 5\n)\nSELECT v.title, v.likes, v.comments\nFROM video_stats v\nWHERE v.video_id IN (SELECT video_id FROM top_likes)\n    AND v.video_id IN (SELECT video_id FROM top_comments);\n\n-- Question: What is the average number of views for videos that have above-average likes?\n\n-- Query to calculate the average number of views for videos with above-average likes\nWITH avg_likes AS (\n    SELECT AVG(likes) AS avg_likes\n    FROM video_stats\n)\nSELECT AVG(views) AS avg_views_above_avg_likes\nFROM video_stats\nWHERE likes > (SELECT avg_likes FROM avg_likes);\n",
      "outputs": []
    },
    {
      "id": "39955488-8db5-49e3-b0bd-02cb1815d5a8",
      "cell_type": "code",
      "metadata": {
        "noteable": {
          "assign_results_to": "sql_df_5",
          "cell_type": "sql",
          "db_connection": "@noteable"
        }
      },
      "execution_count": null,
      "source": "-- Query to find videos with sentiment scores higher than the average sentiment score\nWITH avg_sentiment AS (\n    SELECT AVG(sentiment_score) AS avg_sentiment_score\n    FROM video_stats\n)\nSELECT video_id, title, sentiment_score\nFROM video_stats\nWHERE sentiment_score > (SELECT avg_sentiment_score FROM avg_sentiment)\nORDER BY sentiment_score DESC;\n",
      "outputs": []
    },
    {
      "id": "fbbc6ef4-c61a-4624-8533-d339c787a3be",
      "cell_type": "code",
      "metadata": {
        "noteable": {
          "assign_results_to": "sql_df_6",
          "cell_type": "sql",
          "db_connection": "@noteable"
        }
      },
      "execution_count": null,
      "source": "-- Query to calculate the correlation between views and comments\nSELECT CORR(views, comments) AS correlation\nFROM video_stats;\n",
      "outputs": []
    }
  ]
}